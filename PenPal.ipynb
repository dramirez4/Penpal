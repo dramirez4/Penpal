{
 "cells": [
  {
   "cell_type": "code",
   "execution_count": 5,
   "id": "c8893f70",
   "metadata": {},
   "outputs": [
    {
     "name": "stdout",
     "output_type": "stream",
     "text": [
      "hey there! this is an example of a caesar cipher. were you able to decode it? i hope so! send me a message back with the same offset!\n"
     ]
    }
   ],
   "source": [
    "alphabet = 'abcdefghijklmnopqrstuvwxyz'\n",
    "punctuation = '.,?! ' \n",
    "message = 'xuo jxuhu! jxyi yi qd unqcfbu ev q squiqh syfxuh. muhu oek qrbu je tusetu yj? y xefu ie! iudt cu q cuiiqwu rqsa myjx jxu iqcu evviuj!'\n",
    "translated_message = ''\n",
    "for letter in message:\n",
    "    if not letter in punctuation:\n",
    "        letter_value = alphabet.find(letter)\n",
    "        translated_message += alphabet[(letter_value+10)%26]\n",
    "    else:\n",
    "        translated_message += letter\n",
    "print(translated_message)\n"
   ]
  },
  {
   "cell_type": "code",
   "execution_count": 7,
   "id": "6ae7a5ce",
   "metadata": {},
   "outputs": [
    {
     "name": "stdout",
     "output_type": "stream",
     "text": [
      "xuo, jxuhu jxyi yi q cuiiqwu yd squiqh syfxuh. y wej oekphu bqij cuiiqwu\n"
     ]
    }
   ],
   "source": [
    "message_for_v = 'hey, there this is a message in caesar cipher. i got you\\'re last message'\n",
    "translated_message = ''\n",
    "for letter in message_for_v:\n",
    "    if not letter in punctuation:\n",
    "        letter_value = alphabet.find(letter)\n",
    "        translated_message += alphabet[(letter_value-10)%26]\n",
    "    else:\n",
    "        translated_message += letter\n",
    "print(translated_message)"
   ]
  },
  {
   "cell_type": "code",
   "execution_count": 19,
   "id": "b0798a47",
   "metadata": {},
   "outputs": [
    {
     "name": "stdout",
     "output_type": "stream",
     "text": [
      "the offset for the second message is fourteen.\n"
     ]
    }
   ],
   "source": [
    "def decoder(message,offset):\n",
    "    translated_message = \"\"\n",
    "    for letter in message:\n",
    "        if not letter in punctuation:\n",
    "            letter_value = alphabet.find(letter)\n",
    "            translated_message += alphabet[(letter_value+offset)%26]\n",
    "        else:\n",
    "            translated_message += letter\n",
    "    print(translated_message)\n",
    "    \n",
    "    \n",
    "    \n",
    "def coder(message,offset):\n",
    "    translated_message = \"\"\n",
    "    for letter in message:\n",
    "        if not letter in punctuation:\n",
    "            letter_value = alphabet.find(letter)\n",
    "            translated_message += alphabet[(letter_value - offset)%26]\n",
    "        else:\n",
    "            translated_message += letter\n",
    "    print(translated_message)\n",
    "    \n",
    "    \n",
    "    \n",
    "    \n",
    "decoder(\"jxu evviuj veh jxu iusedt cuiiqwu yi vekhjuud.\",10)"
   ]
  },
  {
   "cell_type": "code",
   "execution_count": 15,
   "id": "92f78706",
   "metadata": {},
   "outputs": [
    {
     "name": "stdout",
     "output_type": "stream",
     "text": [
      "performing multiple caesar ciphers to code your messages is even more secure!\n"
     ]
    }
   ],
   "source": [
    "decoder(\"bqdradyuzs ygxfubxq omqemd oubtqde fa oapq kagd yqeemsqe ue qhqz yadq eqogdq!\",14)"
   ]
  },
  {
   "cell_type": "code",
   "execution_count": 18,
   "id": "5c5681de",
   "metadata": {},
   "outputs": [
    {
     "name": "stdout",
     "output_type": "stream",
     "text": [
      "offset: 1\n",
      "wigjonylm bupy lyhxylyx uff iz nbymy ifx wcjbylm ivmifyny. qyaff bupy ni lyuffs mnyj oj iol augy cz qy quhn ni eyyj iol gymmuaym muzy.\n",
      "None\n",
      "offset: 2\n",
      "xjhkpozmn cvqz mziyzmzy vgg ja ocznz jgy xdkczmn jwnjgzoz. rzbgg cvqz oj mzvggt nozk pk jpm bvhz da rz rvio oj fzzk jpm hznnvbzn nvaz.\n",
      "None\n",
      "offset: 3\n",
      "ykilqpano dwra najzanaz whh kb pdaoa khz yeldano kxokhapa. sachh dwra pk nawhhu opal ql kqn cwia eb sa swjp pk gaal kqn iaoowcao owba.\n",
      "None\n",
      "offset: 4\n",
      "zljmrqbop exsb obkaboba xii lc qebpb lia zfmebop lyplibqb. tbdii exsb ql obxiiv pqbm rm lro dxjb fc tb txkq ql hbbm lro jbppxdbp pxcb.\n",
      "None\n",
      "offset: 5\n",
      "amknsrcpq fytc pclbcpcb yjj md rfcqc mjb agnfcpq mzqmjcrc. ucejj fytc rm pcyjjw qrcn sn msp eykc gd uc uylr rm iccn msp kcqqyecq qydc.\n",
      "None\n",
      "offset: 6\n",
      "bnlotsdqr gzud qdmcdqdc zkk ne sgdrd nkc bhogdqr narnkdsd. vdfkk gzud sn qdzkkx rsdo to ntq fzld he vd vzms sn jddo ntq ldrrzfdr rzed.\n",
      "None\n",
      "offset: 7\n",
      "computers have rendered all of these old ciphers obsolete. wegll have to really step up our game if we want to keep our messages safe.\n",
      "None\n",
      "offset: 8\n",
      "dpnqvufst ibwf sfoefsfe bmm pg uiftf pme djqifst pctpmfuf. xfhmm ibwf up sfbmmz tufq vq pvs hbnf jg xf xbou up lffq pvs nfttbhft tbgf.\n",
      "None\n",
      "offset: 9\n",
      "eqorwvgtu jcxg tgpfgtgf cnn qh vjgug qnf ekrjgtu qduqngvg. yginn jcxg vq tgcnna uvgr wr qwt icog kh yg ycpv vq mggr qwt oguucigu uchg.\n",
      "None\n",
      "offset: 10\n",
      "frpsxwhuv kdyh uhqghuhg doo ri wkhvh rog flskhuv revrohwh. zhjoo kdyh wr uhdoob vwhs xs rxu jdph li zh zdqw wr nhhs rxu phvvdjhv vdih.\n",
      "None\n",
      "offset: 11\n",
      "gsqtyxivw lezi virhivih epp sj xliwi sph gmtlivw sfwspixi. aikpp lezi xs vieppc wxit yt syv keqi mj ai aerx xs oiit syv qiwwekiw weji.\n",
      "None\n",
      "offset: 12\n",
      "htruzyjwx mfaj wjsijwji fqq tk ymjxj tqi hnumjwx tgxtqjyj. bjlqq mfaj yt wjfqqd xyju zu tzw lfrj nk bj bfsy yt pjju tzw rjxxfljx xfkj.\n",
      "None\n",
      "offset: 13\n",
      "iusvazkxy ngbk xktjkxkj grr ul znkyk urj iovnkxy uhyurkzk. ckmrr ngbk zu xkgrre yzkv av uax mgsk ol ck cgtz zu qkkv uax skyygmky yglk.\n",
      "None\n",
      "offset: 14\n",
      "jvtwbalyz ohcl yluklylk hss vm aolzl vsk jpwolyz vizvslal. dlnss ohcl av ylhssf zalw bw vby nhtl pm dl dhua av rllw vby tlzzhnlz zhml.\n",
      "None\n",
      "offset: 15\n",
      "kwuxcbmza pidm zmvlmzml itt wn bpmam wtl kqxpmza wjawtmbm. emott pidm bw zmittg abmx cx wcz oium qn em eivb bw smmx wcz umaaioma ainm.\n",
      "None\n",
      "offset: 16\n",
      "lxvydcnab qjen anwmnanm juu xo cqnbn xum lryqnab xkbxuncn. fnpuu qjen cx anjuuh bcny dy xda pjvn ro fn fjwc cx tnny xda vnbbjpnb bjon.\n",
      "None\n",
      "offset: 17\n",
      "mywzedobc rkfo boxnobon kvv yp droco yvn mszrobc ylcyvodo. goqvv rkfo dy bokvvi cdoz ez yeb qkwo sp go gkxd dy uooz yeb wocckqoc ckpo.\n",
      "None\n",
      "offset: 18\n",
      "nzxafepcd slgp cpyopcpo lww zq espdp zwo ntaspcd zmdzwpep. hprww slgp ez cplwwj depa fa zfc rlxp tq hp hlye ez vppa zfc xpddlrpd dlqp.\n",
      "None\n",
      "offset: 19\n",
      "oaybgfqde tmhq dqzpqdqp mxx ar ftqeq axp oubtqde aneaxqfq. iqsxx tmhq fa dqmxxk efqb gb agd smyq ur iq imzf fa wqqb agd yqeemsqe emrq.\n",
      "None\n",
      "offset: 20\n",
      "pbzchgref unir eraqrerq nyy bs gurfr byq pvcuref bofbyrgr. jrtyy unir gb ernyyl fgrc hc bhe tnzr vs jr jnag gb xrrc bhe zrffntrf fnsr.\n",
      "None\n",
      "offset: 21\n",
      "qcadihsfg vojs fsbrsfsr ozz ct hvsgs czr qwdvsfg cpgczshs. ksuzz vojs hc fsozzm ghsd id cif uoas wt ks kobh hc yssd cif asggousg gots.\n",
      "None\n",
      "offset: 22\n",
      "rdbejitgh wpkt gtcstgts paa du iwtht das rxewtgh dqhdatit. ltvaa wpkt id gtpaan hite je djg vpbt xu lt lpci id ztte djg bthhpvth hput.\n",
      "None\n",
      "offset: 23\n",
      "secfkjuhi xqlu hudtuhut qbb ev jxuiu ebt syfxuhi eriebuju. muwbb xqlu je huqbbo ijuf kf ekh wqcu yv mu mqdj je auuf ekh cuiiqwui iqvu.\n",
      "None\n",
      "offset: 24\n",
      "tfdglkvij yrmv iveuvivu rcc fw kyvjv fcu tzgyvij fsjfcvkv. nvxcc yrmv kf ivrccp jkvg lg fli xrdv zw nv nrek kf bvvg fli dvjjrxvj jrwv.\n",
      "None\n",
      "offset: 25\n",
      "ugehmlwjk zsnw jwfvwjwv sdd gx lzwkw gdv uahzwjk gtkgdwlw. owydd zsnw lg jwsddq klwh mh gmj ysew ax ow osfl lg cwwh gmj ewkksywk ksxw.\n",
      "None\n"
     ]
    }
   ],
   "source": [
    "coded_message = \"vhfinmxkl atox kxgwxkxw tee hy maxlx hew vbiaxkl hulhexmx. px'ee atox mh kxteer lmxi ni hnk ztfx by px ptgm mh dxxi hnk fxlltzxl ltyx.\"\n",
    "for i in range(1,26):\n",
    "    print(\"offset: \" + str(i))\n",
    "    print( decoder(coded_message, i) )"
   ]
  },
  {
   "cell_type": "code",
   "execution_count": 5,
   "id": "928a64a8",
   "metadata": {},
   "outputs": [
    {
     "name": "stdout",
     "output_type": "stream",
     "text": [
      "you were able to decode this? nice work! you are becoming quite the expert at crytography!\n",
      "ulsgsw xpv lxigzjry fm edm xzxai upsd vqtzfvk! rwy jfedeg ejf xzx jiku!\n",
      "thanks for teaching me all these cool ciphers! you really are the best!\n"
     ]
    }
   ],
   "source": [
    "alphabet = 'abcdefghijklmnopqrstuvwxyz'\n",
    "punctuation = '.,?! '\n",
    "def vigenere_decoder(coded_message, keyword):\n",
    "    letter_pointer = 0\n",
    "    keyword_final = ''\n",
    "    for i in range(0,len(coded_message)):\n",
    "        if coded_message[i] in punctuation:\n",
    "            keyword_final += coded_message[i]\n",
    "        else:\n",
    "            keyword_final += keyword[letter_pointer]\n",
    "            letter_pointer = (letter_pointer+1)%len(keyword)\n",
    "    translated_message = ''\n",
    "    for i in range(0,len(coded_message)):    \n",
    "        if not coded_message[i] in punctuation:\n",
    "            ln = alphabet.find(coded_message[i]) - alphabet.find(keyword_final[i])\n",
    "            translated_message += alphabet[ln % 26]\n",
    "        else:\n",
    "            translated_message += coded_message[i]\n",
    "    return translated_message\n",
    "\n",
    "message = \"dfc aruw fsti gr vjtwhr wznj? vmph otis! cbx swv jipreneo uhllj kpi rahjib eg fjdkwkedhmp!\"\n",
    "keyword = \"friends\"\n",
    "\n",
    "print(vigenere_decoder(message, keyword))\n",
    "\n",
    "\n",
    "def vigenere_coder(message, keyword):\n",
    "    letter_pointer = 0\n",
    "    keyword_final = ''\n",
    "    for i in range(0,len(message)):\n",
    "        if message[i] in punctuation:\n",
    "            keyword_final += message[i]\n",
    "        else:\n",
    "            keyword_final += keyword[letter_pointer]\n",
    "            letter_pointer = (letter_pointer+1)%len(keyword)\n",
    "    translated_message = ''\n",
    "    for i in range(0,len(message)):\n",
    "        if message[i] not in punctuation:\n",
    "            ln = alphabet.find(message[i]) + alphabet.find(keyword_final[i])\n",
    "            translated_message += alphabet[ln % 26]\n",
    "        else:\n",
    "            translated_message += message[i]\n",
    "    return translated_message\n",
    "\n",
    "message_for_v = \"thanks for teaching me all these cool ciphers! you really are the best!\"\n",
    "keyword = \"besties\"\n",
    "\n",
    "print(vigenere_coder(message_for_v,keyword))\n",
    "print(vigenere_decoder(vigenere_coder(message_for_v, keyword), keyword))"
   ]
  },
  {
   "cell_type": "code",
   "execution_count": null,
   "id": "dbfc8d0c",
   "metadata": {},
   "outputs": [],
   "source": []
  }
 ],
 "metadata": {
  "kernelspec": {
   "display_name": "Python 3 (ipykernel)",
   "language": "python",
   "name": "python3"
  },
  "language_info": {
   "codemirror_mode": {
    "name": "ipython",
    "version": 3
   },
   "file_extension": ".py",
   "mimetype": "text/x-python",
   "name": "python",
   "nbconvert_exporter": "python",
   "pygments_lexer": "ipython3",
   "version": "3.9.13"
  }
 },
 "nbformat": 4,
 "nbformat_minor": 5
}
